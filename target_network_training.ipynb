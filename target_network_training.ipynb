{
 "cells": [
  {
   "cell_type": "code",
   "execution_count": null,
   "metadata": {
    "id": "-71pSaerLz23"
   },
   "outputs": [],
   "source": [
    "import torch\n",
    "import torchvision\n",
    "import torchvision.transforms as transforms\n",
    "import torch.nn as nn\n",
    "import torch.nn.functional as F\n",
    "import torch.optim as optim\n",
    "from torchvision.models import resnet18, ResNet18_Weights\n",
    "import numpy as np\n",
    "from tqdm import tqdm\n",
    "import matplotlib.pyplot as plt"
   ]
  },
  {
   "cell_type": "code",
   "execution_count": null,
   "metadata": {
    "id": "L5akwIruK12c"
   },
   "outputs": [],
   "source": [
    "def get_transform():\n",
    "    transform = transforms.Compose([\n",
    "        transforms.Resize( (32,32) ),\n",
    "        transforms.ToTensor(),\n",
    "        transforms.Normalize((0.5, 0.5, 0.5), (0.5, 0.5, 0.5))\n",
    "    ])\n",
    "\n",
    "    return transform\n",
    "\n",
    "def get_datasets(root='data', train=True, test=True, transform=None, batch=64):\n",
    "    assert train or test, 'You must select train, test, or both'\n",
    "    ret = {}\n",
    "    transform = get_transform() if transform is None else transform\n",
    "    if train:\n",
    "        trainset = torchvision.datasets.CIFAR10(\n",
    "            root=root, train=True, download=True, transform=transform\n",
    "        )\n",
    "        trainloader = torch.utils.data.DataLoader(\n",
    "            trainset, batch_size=batch, shuffle=True, num_workers=2\n",
    "        )\n",
    "        ret['train']   = trainloader\n",
    "        ret['n_train'] = len(trainset)\n",
    "\n",
    "    if test:\n",
    "        testset = torchvision.datasets.CIFAR10(\n",
    "            root=root, train=False, download=True, transform=transform\n",
    "        )\n",
    "        testloader = torch.utils.data.DataLoader(\n",
    "            testset, batch_size=batch, shuffle=False, num_workers=2\n",
    "        )\n",
    "        ret['test']   = testloader\n",
    "        ret['n_test'] = len(testset)\n",
    "\n",
    "    classes = ('plane', 'car', 'bird', 'cat', 'deer',\n",
    "               'dog', 'frog', 'horse', 'ship', 'truck')\n",
    "    ret['classes'] = classes\n",
    "\n",
    "    return ret\n"
   ]
  },
  {
   "cell_type": "code",
   "execution_count": null,
   "metadata": {
    "id": "NDZbwt1JK7hq"
   },
   "outputs": [],
   "source": [
    "class ResNetModel(nn.Module):\n",
    "    def __init__(self, num_classes=10):\n",
    "        super(ResNetModel, self).__init__()\n",
    "\n",
    "        self.resnet = resnet18(weights=ResNet18_Weights.DEFAULT)\n",
    "\n",
    "        in_features = self.resnet.fc.in_features\n",
    "        self.resnet.fc = nn.Linear(in_features, num_classes)\n",
    "\n",
    "    def forward(self, x):\n",
    "        return self.resnet(x)"
   ]
  },
  {
   "cell_type": "code",
   "execution_count": null,
   "metadata": {
    "colab": {
     "base_uri": "https://localhost:8080/"
    },
    "id": "QfFx_4DJK3rt",
    "outputId": "aee1a071-2361-4729-a296-e4bbdd6ade90"
   },
   "outputs": [
    {
     "name": "stdout",
     "output_type": "stream",
     "text": [
      "Files already downloaded and verified\n",
      "cuda\n"
     ]
    }
   ],
   "source": [
    "model = ResNetModel(num_classes = 10)\n",
    "datasets = get_datasets(test=False)\n",
    "\n",
    "model_fn = \"model_cifar_resnet.pth\"\n",
    "\n",
    "criterion = nn.CrossEntropyLoss()\n",
    "# optimizer = optim.SGD(model.parameters(), lr=0.001, momentum=0.9)\n",
    "optimizer = optim.Adam(model.parameters(), lr=0.01)\n",
    "\n",
    "device = torch.device('cuda' if torch.cuda.is_available() else 'cpu')\n",
    "\n",
    "print(device)"
   ]
  },
  {
   "cell_type": "code",
   "execution_count": null,
   "metadata": {
    "colab": {
     "base_uri": "https://localhost:8080/"
    },
    "id": "eOkm8nzOLa7u",
    "outputId": "715c4f72-b2b9-4ec9-b5bc-7f8d98df20c1"
   },
   "outputs": [
    {
     "name": "stderr",
     "output_type": "stream",
     "text": [
      "Epoch: 1/20 Loss: 2.002: 100%|██████████| 782/782 [00:25<00:00, 30.45it/s]\n",
      "Epoch: 2/20 Loss: 1.431: 100%|██████████| 782/782 [00:25<00:00, 31.00it/s]\n",
      "Epoch: 3/20 Loss: 1.135: 100%|██████████| 782/782 [00:25<00:00, 30.60it/s]\n",
      "Epoch: 4/20 Loss: 0.982: 100%|██████████| 782/782 [00:24<00:00, 31.55it/s]\n",
      "Epoch: 5/20 Loss: 0.867: 100%|██████████| 782/782 [00:24<00:00, 31.50it/s]\n",
      "Epoch: 6/20 Loss: 0.771: 100%|██████████| 782/782 [00:25<00:00, 30.92it/s]\n",
      "Epoch: 7/20 Loss: 0.698: 100%|██████████| 782/782 [00:25<00:00, 30.64it/s]\n",
      "Epoch: 8/20 Loss: 0.643: 100%|██████████| 782/782 [00:25<00:00, 30.69it/s]\n",
      "Epoch: 9/20 Loss: 0.541: 100%|██████████| 782/782 [00:25<00:00, 30.74it/s]\n",
      "Epoch: 10/20 Loss: 0.502: 100%|██████████| 782/782 [00:25<00:00, 30.64it/s]\n",
      "Epoch: 11/20 Loss: 0.445: 100%|██████████| 782/782 [00:25<00:00, 30.58it/s]\n",
      "Epoch: 12/20 Loss: 0.390: 100%|██████████| 782/782 [00:25<00:00, 30.69it/s]\n",
      "Epoch: 13/20 Loss: 0.330: 100%|██████████| 782/782 [00:24<00:00, 31.29it/s]\n",
      "Epoch: 14/20 Loss: 0.299: 100%|██████████| 782/782 [00:24<00:00, 31.43it/s]\n",
      "Epoch: 15/20 Loss: 0.252: 100%|██████████| 782/782 [00:24<00:00, 31.86it/s]\n",
      "Epoch: 16/20 Loss: 0.214: 100%|██████████| 782/782 [00:25<00:00, 31.20it/s]\n",
      "Epoch: 17/20 Loss: 0.197: 100%|██████████| 782/782 [00:25<00:00, 31.08it/s]\n",
      "Epoch: 18/20 Loss: 0.176: 100%|██████████| 782/782 [00:25<00:00, 30.85it/s]\n",
      "Epoch: 19/20 Loss: 0.168: 100%|██████████| 782/782 [00:25<00:00, 30.90it/s]\n",
      "Epoch: 20/20 Loss: 0.156: 100%|██████████| 782/782 [00:25<00:00, 30.98it/s]\n"
     ]
    },
    {
     "name": "stdout",
     "output_type": "stream",
     "text": [
      "Model trained.\n",
      "Saving the model to \"model_cifar_resnet.pth\"\n"
     ]
    }
   ],
   "source": [
    "model = model.to(device)\n",
    "max_epochs = 20\n",
    "loss_history = []\n",
    "for epoch in range(max_epochs):\n",
    "  running_loss = 0.0\n",
    "  with tqdm(datasets['train']) as tqdm_train:\n",
    "    for i, data in enumerate(tqdm_train):\n",
    "      inputs, labels = data\n",
    "      inputs, labels = inputs.to(device), labels.to(device)\n",
    "\n",
    "      optimizer.zero_grad()\n",
    "\n",
    "      outputs = model(inputs)\n",
    "      loss = criterion(outputs, labels)\n",
    "      loss.backward()\n",
    "      optimizer.step()\n",
    "\n",
    "      # print statistics\n",
    "      running_loss += loss.item()\n",
    "      if i % 200 == 199:\n",
    "        tqdm_train.set_description('Epoch: {}/{} Loss: {:.3f}'.format(\n",
    "          epoch+1, max_epochs, running_loss / 200.))\n",
    "        loss_history.append(running_loss / 200.)\n",
    "        running_loss = 0.0\n",
    "\n",
    "print('Model trained.')\n",
    "print('Saving the model to \"{}\"'.format(model_fn))\n",
    "\n",
    "torch.save(model.state_dict(), model_fn)"
   ]
  },
  {
   "cell_type": "markdown",
   "metadata": {
    "id": "Pm3lFgDUGJmC"
   },
   "source": [
    "ResNet18 results below"
   ]
  },
  {
   "cell_type": "code",
   "execution_count": null,
   "metadata": {
    "colab": {
     "base_uri": "https://localhost:8080/"
    },
    "id": "INVb5g4wePMD",
    "outputId": "9be58162-4a82-47a9-d2de-1d822fb9582b"
   },
   "outputs": [
    {
     "name": "stdout",
     "output_type": "stream",
     "text": [
      "[2.622028719186783, 2.145177519917488, 2.001941232681274, 1.648298369050026, 1.515150476694107, 1.4306932216882706, 1.2651597988605499, 1.2028371199965477, 1.1354122430086135, 1.0212637582421302, 0.983672684431076, 0.981690416932106, 0.8679538106918335, 0.8646758434176445, 0.8669010543823242, 0.7707373805344104, 0.7784030844271183, 0.7706084632873536, 0.6955687317252159, 0.6909479066729546, 0.6978619958460331, 0.5820533856749535, 0.6237911778688431, 0.6434468092024326, 0.5281733091175557, 0.5664831334352494, 0.5406951721012593, 0.4554464681446552, 0.4844348780810833, 0.501890979334712, 0.3836412444710732, 0.41981980711221695, 0.44451664701104165, 0.3111648580804467, 0.3641292676329613, 0.38952721416950226, 0.2897470108419657, 0.3024945806711912, 0.32977831199765206, 0.2362223939411342, 0.2797609950974584, 0.2987268503755331, 0.20564822882413863, 0.23730759106576443, 0.2523967190273106, 0.1876349240913987, 0.2057360415533185, 0.2143971729464829, 0.14718589442782104, 0.1874338405393064, 0.19652635529637336, 0.14347562068141997, 0.1586912801209837, 0.1759108386654407, 0.12584818951785565, 0.15616417046636344, 0.1681385544873774, 0.1263810847699642, 0.13045009470079094, 0.15601855513639748]\n"
     ]
    }
   ],
   "source": [
    "print(loss_history)"
   ]
  },
  {
   "cell_type": "code",
   "execution_count": null,
   "metadata": {
    "colab": {
     "base_uri": "https://localhost:8080/",
     "height": 472
    },
    "id": "LtMrVPQBMSe1",
    "outputId": "db3cabfa-715d-4117-fd56-843647816dc0"
   },
   "outputs": [
    {
     "data": {
      "image/png": "[encoded data removed]",
      "text/plain": [
       "<Figure size 640x480 with 1 Axes>"
      ]
     },
     "metadata": {},
     "output_type": "display_data"
    }
   ],
   "source": [
    "plt.plot(loss_history)\n",
    "plt.title(\"Loss\")\n",
    "plt.xlabel(\"Iteration\")\n",
    "plt.ylabel(\"Loss\")\n",
    "plt.grid(True)\n",
    "plt.show()"
   ]
  }
 ],
 "metadata": {
  "accelerator": "GPU",
  "colab": {
   "gpuType": "T4",
   "provenance": []
  },
  "kernelspec": {
   "display_name": "Python 3",
   "name": "python3"
  },
  "language_info": {
   "name": "python"
  }
 },
 "nbformat": 4,
 "nbformat_minor": 0
}
